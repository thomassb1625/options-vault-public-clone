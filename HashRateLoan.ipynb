{
 "cells": [
  {
   "cell_type": "code",
   "execution_count": 1,
   "id": "5ab5d880-fb9f-42b1-8848-84c5fc8e6d5c",
   "metadata": {},
   "outputs": [],
   "source": [
    "access_token = \"\"\n",
    "import pandas as pd\n",
    "import numpy as np\n",
    "from datetime import datetime\n",
    "from matplotlib import pyplot as plt\n",
    "from sklearn import linear_model\n",
    "import requests"
   ]
  },
  {
   "cell_type": "code",
   "execution_count": 2,
   "id": "75e20540-a855-4756-b585-838b177b7b59",
   "metadata": {
    "jupyter": {
     "source_hidden": true
    },
    "tags": []
   },
   "outputs": [],
   "source": [
    "def getReqDate(d):\n",
    "    \n",
    "    start = pd.to_datetime(d)\n",
    "    sYear = str(start.year)\n",
    "    sMonth = \"\"\n",
    "    sDay = \"\"\n",
    "    \n",
    "    if(start.month <10):\n",
    "        sMonth = \"0\"+ str(start.month)\n",
    "    else:\n",
    "        sMonth = str(start.month)\n",
    "    \n",
    "    if(start.day <10):\n",
    "        sDay = \"0\"+ str(start.day)\n",
    "    else:\n",
    "        sDay = str(start.day)\n",
    "    \n",
    "    output = sYear+sMonth+sDay+\"T000000\"\n",
    "    return output"
   ]
  },
  {
   "cell_type": "code",
   "execution_count": 3,
   "id": "9ede7e04-a44c-49e5-87dd-d5005449756a",
   "metadata": {
    "jupyter": {
     "source_hidden": true
    },
    "tags": []
   },
   "outputs": [],
   "source": [
    "def getHashRateData(start,end,timeFrame):\n",
    "    access_token = \"\"\n",
    "    headers = {'Authorization': 'Bearer ' + access_token}\n",
    "    fromDate = getReqDate(start)\n",
    "    toDate = getReqDate(end)\n",
    "    url = \"https://api.cryptoquant.com/v1/btc/network-data/hashrate?window=\"+timeFrame+\"&from=\"+fromDate+\"&to=\"+toDate+\"&limit=100000\"\n",
    "    temp = pd.DataFrame(requests.get(url, headers=headers).json()['result']['data'])\n",
    "    temp.sort_values(by = 'date',inplace=True)\n",
    "    temp.index = pd.to_datetime(temp.date)\n",
    "    check = pd.to_datetime(temp.index[0])\n",
    "    check1 = pd.to_datetime(start)\n",
    "    if check.year != check1.year or check.month != check1.month or check.day != check1.day:\n",
    "        newEnd = check\n",
    "        #print(newEnd)\n",
    "        newDF = pd.concat([getData(start,newEnd,timeFrame,pair), temp])\n",
    "        dupIndex = newDF.index.duplicated(keep=\"first\")\n",
    "        newDF = newDF[~dupIndex]\n",
    "        newDF.sort_index(inplace=True)\n",
    "\n",
    "        return newDF\n",
    "    else:\n",
    "        return temp\n"
   ]
  },
  {
   "cell_type": "code",
   "execution_count": 30,
   "id": "cad69db0-f873-46dc-978d-e42c75ad8649",
   "metadata": {
    "tags": []
   },
   "outputs": [],
   "source": [
    "def getMaxLoan(timeFrame, clientHashRate, interestRate, btcPrice, df):\n",
    "    hashRates = []\n",
    "    days = []\n",
    "    i = 0\n",
    "    for row in df.iterrows():\n",
    "        hashRates.append(row[1].hashrate)\n",
    "        days.append(i)\n",
    "        i += 1\n",
    "        \n",
    "    plt.plot(days, hashRates, label = 'Historical Hashrate')\n",
    "    \n",
    "    reg = linear_model.LinearRegression()\n",
    "    reg.fit(np.array(days).reshape(-1, 1), hashRates)\n",
    "    \n",
    "    lastDay = max(days)\n",
    "    for j in range(timeFrame):\n",
    "        days.append(lastDay+j+1)\n",
    "    \n",
    "    predictedHashRate = reg.predict(np.array(days).reshape(-1, 1))\n",
    "    plt.plot(days, predictedHashRate, label = 'Predicted Hashrate')\n",
    "    plt.ylabel(\"Hashrate (GH/s)\")\n",
    "    plt.xlabel(\"Days since \" + str(df.head(1).date.tolist()[0]))\n",
    "    plt.legend()\n",
    "    plt.show()\n",
    "    \n",
    "    hashOverLoanPeriod = np.mean(predictedHashRate[-timeFrame:])\n",
    "    btcBlockTimeMin = 10\n",
    "    btcOverLoanPeriod = timeFrame*24*60/10\n",
    "    \n",
    "    clientHashrateDominance = (clientHashRate/hashOverLoanPeriod)\n",
    "    \n",
    "    btcMinedOverLoan = clientHashrateDominance*btcOverLoanPeriod\n",
    "    \n",
    "    usdOverLoanPeriod = btcMinedOverLoan * btcPrice \n",
    "    \n",
    "    maxLoan = usdOverLoanPeriod/(1 + interestRate)\n",
    "    \n",
    "    print(\"----------------LOAN DETAILS----------------\")\n",
    "    print(\"Loan Period: \" + str(timeFrame) + \" days\" + \" / Interest Rate: \" + (\"{:,.2f}%\".format(interestRate*100)))\n",
    "    print(\"Expected Average Hashrate: \" + (\"{:,.0f}\".format(hashOverLoanPeriod)) + \" GH/s\")\n",
    "    print(\"Expected Client Hashrate Dominance: \" + (\"{:,.2f}%\".format(clientHashrateDominance*100)))\n",
    "    print(\"Expected Client BTC Returns: \" + (\"{:,.4f}\".format(btcMinedOverLoan)))\n",
    "    print(\"Expected Client USD Returns: \" + (\"${:,.2f}\".format(usdOverLoanPeriod)))\n",
    "    print(\"Maximum Loan: \" + (\"${:,.2f}\".format(maxLoan)))\n",
    "    print(\"--------Genesis Expected Profit--------\")\n",
    "    print((\"${:,.2f}\".format(usdOverLoanPeriod - maxLoan)))"
   ]
  },
  {
   "cell_type": "code",
   "execution_count": 31,
   "id": "1bc245ad-eb1b-48db-ba8c-b6212d4c57cb",
   "metadata": {},
   "outputs": [],
   "source": [
    "#Format: YYYY-MM-DD\n",
    "start = \"2018-01-01\"\n",
    "end = \"2022-08-03\"\n",
    "#Format: {\"min\",\"hour\",\"day\"}\n",
    "timeFrame = \"day\""
   ]
  },
  {
   "cell_type": "code",
   "execution_count": 32,
   "id": "20d29732-4cc8-46bc-8f44-14d01edef895",
   "metadata": {},
   "outputs": [],
   "source": [
    "hashs = getHashRateData(start,end,timeFrame)"
   ]
  },
  {
   "cell_type": "code",
   "execution_count": 33,
   "id": "af8b7814-7ad9-405f-b78d-c3fc0e49db23",
   "metadata": {},
   "outputs": [
    {
     "data": {
      "image/png": "[encoded data removed]",
      "text/plain": [
       "<Figure size 432x288 with 1 Axes>"
      ]
     },
     "metadata": {
      "needs_background": "light"
     },
     "output_type": "display_data"
    },
    {
     "name": "stdout",
     "output_type": "stream",
     "text": [
      "----------------LOAN DETAILS----------------\n",
      "Loan Period: 365 days / Interest Rate: 8.00%\n",
      "Expected Average Hashrate: 221,912,227,496 GH/s\n",
      "Expected Client Hashrate Dominance: 1.89%\n",
      "Expected Client BTC Returns: 994.7717\n",
      "Expected Client USD Returns: $21,884,977.02\n",
      "Maximum Loan: $20,263,867.61\n",
      "--------Genesis Expected Profit--------\n",
      "$1,621,109.41\n"
     ]
    }
   ],
   "source": [
    "#Inputs: days of loan period, client hashrate, interest rate, btc price, and historical hashrate df\n",
    "getMaxLoan(365, 4.2e9, 0.08, 22000, hashs)"
   ]
  },
  {
   "cell_type": "code",
   "execution_count": 28,
   "id": "8f7ca0d9-9ddc-48ef-a0a1-17f3b7b7b5f2",
   "metadata": {},
   "outputs": [
    {
     "data": {
      "text/plain": [
       "328500.0"
      ]
     },
     "execution_count": 28,
     "metadata": {},
     "output_type": "execute_result"
    }
   ],
   "source": [
    "6*24*365*6.25"
   ]
  },
  {
   "cell_type": "code",
   "execution_count": null,
   "id": "1e961d7c-e812-4d53-85ad-c89f12476712",
   "metadata": {},
   "outputs": [],
   "source": []
  }
 ],
 "metadata": {
  "kernelspec": {
   "display_name": "Python 3 (ipykernel)",
   "language": "python",
   "name": "python3"
  },
  "language_info": {
   "codemirror_mode": {
    "name": "ipython",
    "version": 3
   },
   "file_extension": ".py",
   "mimetype": "text/x-python",
   "name": "python",
   "nbconvert_exporter": "python",
   "pygments_lexer": "ipython3",
   "version": "3.9.12"
  }
 },
 "nbformat": 4,
 "nbformat_minor": 5
}
